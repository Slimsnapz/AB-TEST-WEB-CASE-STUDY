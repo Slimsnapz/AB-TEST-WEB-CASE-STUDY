{
 "cells": [
  {
   "cell_type": "code",
   "execution_count": 4,
   "id": "5c2cb1ca-4fb8-4186-b844-4e225c4764c8",
   "metadata": {},
   "outputs": [],
   "source": [
    "#Import libraries\n",
    "import pandas as pd\n",
    "import numpy as np\n",
    "from scipy.stats import norm\n",
    "import matplotlib.pyplot as plt\n",
    "import seaborn as sns"
   ]
  },
  {
   "cell_type": "code",
   "execution_count": 5,
   "id": "4fe78710-290d-4445-b06e-ae130df30f11",
   "metadata": {},
   "outputs": [
    {
     "data": {
      "text/html": [
       "<div>\n",
       "<style scoped>\n",
       "    .dataframe tbody tr th:only-of-type {\n",
       "        vertical-align: middle;\n",
       "    }\n",
       "\n",
       "    .dataframe tbody tr th {\n",
       "        vertical-align: top;\n",
       "    }\n",
       "\n",
       "    .dataframe thead th {\n",
       "        text-align: right;\n",
       "    }\n",
       "</style>\n",
       "<table border=\"1\" class=\"dataframe\">\n",
       "  <thead>\n",
       "    <tr style=\"text-align: right;\">\n",
       "      <th></th>\n",
       "      <th>user_id</th>\n",
       "      <th>click</th>\n",
       "      <th>group</th>\n",
       "      <th>timestamp</th>\n",
       "    </tr>\n",
       "  </thead>\n",
       "  <tbody>\n",
       "    <tr>\n",
       "      <th>0</th>\n",
       "      <td>1</td>\n",
       "      <td>1</td>\n",
       "      <td>exp</td>\n",
       "      <td>2024-01-01 00:00:00</td>\n",
       "    </tr>\n",
       "    <tr>\n",
       "      <th>1</th>\n",
       "      <td>2</td>\n",
       "      <td>0</td>\n",
       "      <td>exp</td>\n",
       "      <td>2024-01-01 00:01:00</td>\n",
       "    </tr>\n",
       "    <tr>\n",
       "      <th>2</th>\n",
       "      <td>3</td>\n",
       "      <td>1</td>\n",
       "      <td>exp</td>\n",
       "      <td>2024-01-01 00:02:00</td>\n",
       "    </tr>\n",
       "    <tr>\n",
       "      <th>3</th>\n",
       "      <td>4</td>\n",
       "      <td>0</td>\n",
       "      <td>exp</td>\n",
       "      <td>2024-01-01 00:03:00</td>\n",
       "    </tr>\n",
       "    <tr>\n",
       "      <th>4</th>\n",
       "      <td>5</td>\n",
       "      <td>1</td>\n",
       "      <td>exp</td>\n",
       "      <td>2024-01-01 00:04:00</td>\n",
       "    </tr>\n",
       "    <tr>\n",
       "      <th>5</th>\n",
       "      <td>6</td>\n",
       "      <td>0</td>\n",
       "      <td>exp</td>\n",
       "      <td>2024-01-01 00:05:00</td>\n",
       "    </tr>\n",
       "    <tr>\n",
       "      <th>6</th>\n",
       "      <td>7</td>\n",
       "      <td>1</td>\n",
       "      <td>exp</td>\n",
       "      <td>2024-01-01 00:06:00</td>\n",
       "    </tr>\n",
       "    <tr>\n",
       "      <th>7</th>\n",
       "      <td>8</td>\n",
       "      <td>1</td>\n",
       "      <td>exp</td>\n",
       "      <td>2024-01-01 00:07:00</td>\n",
       "    </tr>\n",
       "    <tr>\n",
       "      <th>8</th>\n",
       "      <td>9</td>\n",
       "      <td>0</td>\n",
       "      <td>exp</td>\n",
       "      <td>2024-01-01 00:08:00</td>\n",
       "    </tr>\n",
       "    <tr>\n",
       "      <th>9</th>\n",
       "      <td>10</td>\n",
       "      <td>0</td>\n",
       "      <td>exp</td>\n",
       "      <td>2024-01-01 00:09:00</td>\n",
       "    </tr>\n",
       "  </tbody>\n",
       "</table>\n",
       "</div>"
      ],
      "text/plain": [
       "   user_id  click group            timestamp\n",
       "0        1      1   exp  2024-01-01 00:00:00\n",
       "1        2      0   exp  2024-01-01 00:01:00\n",
       "2        3      1   exp  2024-01-01 00:02:00\n",
       "3        4      0   exp  2024-01-01 00:03:00\n",
       "4        5      1   exp  2024-01-01 00:04:00\n",
       "5        6      0   exp  2024-01-01 00:05:00\n",
       "6        7      1   exp  2024-01-01 00:06:00\n",
       "7        8      1   exp  2024-01-01 00:07:00\n",
       "8        9      0   exp  2024-01-01 00:08:00\n",
       "9       10      0   exp  2024-01-01 00:09:00"
      ]
     },
     "execution_count": 5,
     "metadata": {},
     "output_type": "execute_result"
    }
   ],
   "source": [
    "# Load dataset from CSV file\n",
    "raw_data = pd.read_csv('ab_test_click_data.csv')\n",
    "df = raw_data.copy()\n",
    "# Display first 10 rows to understand data structure\n",
    "df.head(10)"
   ]
  },
  {
   "cell_type": "code",
   "execution_count": 6,
   "id": "b6e7b12f-e3d2-428b-872e-2cf37e2b88ab",
   "metadata": {},
   "outputs": [
    {
     "name": "stdout",
     "output_type": "stream",
     "text": [
      "<class 'pandas.core.frame.DataFrame'>\n",
      "RangeIndex: 20000 entries, 0 to 19999\n",
      "Data columns (total 4 columns):\n",
      " #   Column     Non-Null Count  Dtype \n",
      "---  ------     --------------  ----- \n",
      " 0   user_id    20000 non-null  int64 \n",
      " 1   click      20000 non-null  int64 \n",
      " 2   group      20000 non-null  object\n",
      " 3   timestamp  10000 non-null  object\n",
      "dtypes: int64(2), object(2)\n",
      "memory usage: 625.1+ KB\n"
     ]
    },
    {
     "data": {
      "text/html": [
       "<div>\n",
       "<style scoped>\n",
       "    .dataframe tbody tr th:only-of-type {\n",
       "        vertical-align: middle;\n",
       "    }\n",
       "\n",
       "    .dataframe tbody tr th {\n",
       "        vertical-align: top;\n",
       "    }\n",
       "\n",
       "    .dataframe thead th {\n",
       "        text-align: right;\n",
       "    }\n",
       "</style>\n",
       "<table border=\"1\" class=\"dataframe\">\n",
       "  <thead>\n",
       "    <tr style=\"text-align: right;\">\n",
       "      <th></th>\n",
       "      <th>user_id</th>\n",
       "      <th>click</th>\n",
       "    </tr>\n",
       "  </thead>\n",
       "  <tbody>\n",
       "    <tr>\n",
       "      <th>count</th>\n",
       "      <td>20000.000000</td>\n",
       "      <td>20000.000000</td>\n",
       "    </tr>\n",
       "    <tr>\n",
       "      <th>mean</th>\n",
       "      <td>10000.500000</td>\n",
       "      <td>0.405250</td>\n",
       "    </tr>\n",
       "    <tr>\n",
       "      <th>std</th>\n",
       "      <td>5773.647028</td>\n",
       "      <td>0.490953</td>\n",
       "    </tr>\n",
       "    <tr>\n",
       "      <th>min</th>\n",
       "      <td>1.000000</td>\n",
       "      <td>0.000000</td>\n",
       "    </tr>\n",
       "    <tr>\n",
       "      <th>25%</th>\n",
       "      <td>5000.750000</td>\n",
       "      <td>0.000000</td>\n",
       "    </tr>\n",
       "    <tr>\n",
       "      <th>50%</th>\n",
       "      <td>10000.500000</td>\n",
       "      <td>0.000000</td>\n",
       "    </tr>\n",
       "    <tr>\n",
       "      <th>75%</th>\n",
       "      <td>15000.250000</td>\n",
       "      <td>1.000000</td>\n",
       "    </tr>\n",
       "    <tr>\n",
       "      <th>max</th>\n",
       "      <td>20000.000000</td>\n",
       "      <td>1.000000</td>\n",
       "    </tr>\n",
       "  </tbody>\n",
       "</table>\n",
       "</div>"
      ],
      "text/plain": [
       "            user_id         click\n",
       "count  20000.000000  20000.000000\n",
       "mean   10000.500000      0.405250\n",
       "std     5773.647028      0.490953\n",
       "min        1.000000      0.000000\n",
       "25%     5000.750000      0.000000\n",
       "50%    10000.500000      0.000000\n",
       "75%    15000.250000      1.000000\n",
       "max    20000.000000      1.000000"
      ]
     },
     "execution_count": 6,
     "metadata": {},
     "output_type": "execute_result"
    }
   ],
   "source": [
    "# Check data types, missing values, and basic statistics\n",
    "df.info()\n",
    "df.describe()"
   ]
  },
  {
   "cell_type": "code",
   "execution_count": 7,
   "id": "c37101cd-5b48-443f-827e-e9ff3c7fa930",
   "metadata": {},
   "outputs": [
    {
     "data": {
      "text/html": [
       "<div>\n",
       "<style scoped>\n",
       "    .dataframe tbody tr th:only-of-type {\n",
       "        vertical-align: middle;\n",
       "    }\n",
       "\n",
       "    .dataframe tbody tr th {\n",
       "        vertical-align: top;\n",
       "    }\n",
       "\n",
       "    .dataframe thead th {\n",
       "        text-align: right;\n",
       "    }\n",
       "</style>\n",
       "<table border=\"1\" class=\"dataframe\">\n",
       "  <thead>\n",
       "    <tr style=\"text-align: right;\">\n",
       "      <th></th>\n",
       "      <th>user_id</th>\n",
       "      <th>click</th>\n",
       "    </tr>\n",
       "    <tr>\n",
       "      <th>group</th>\n",
       "      <th></th>\n",
       "      <th></th>\n",
       "    </tr>\n",
       "  </thead>\n",
       "  <tbody>\n",
       "    <tr>\n",
       "      <th>con</th>\n",
       "      <td>150005000</td>\n",
       "      <td>1989</td>\n",
       "    </tr>\n",
       "    <tr>\n",
       "      <th>exp</th>\n",
       "      <td>50005000</td>\n",
       "      <td>6116</td>\n",
       "    </tr>\n",
       "  </tbody>\n",
       "</table>\n",
       "</div>"
      ],
      "text/plain": [
       "         user_id  click\n",
       "group                  \n",
       "con    150005000   1989\n",
       "exp     50005000   6116"
      ]
     },
     "execution_count": 7,
     "metadata": {},
     "output_type": "execute_result"
    }
   ],
   "source": [
    "# Calculate total clicks per group\n",
    "df.groupby('group').sum('click')"
   ]
  },
  {
   "cell_type": "markdown",
   "id": "be9e10a9-25cd-40c6-9ee9-c87ae0795e60",
   "metadata": {},
   "source": [
    " A simple barchart showing the total clicks vs no clicks in each group can provide a clear visual comparison of user management"
   ]
  },
  {
   "cell_type": "code",
   "execution_count": 8,
   "id": "eeab8e8a-a6ae-4f99-83f5-df9feebb85d7",
   "metadata": {},
   "outputs": [
    {
     "data": {
      "image/png": "[encoded data removed]",
      "text/plain": [
       "<Figure size 500x800 with 1 Axes>"
      ]
     },
     "metadata": {},
     "output_type": "display_data"
    }
   ],
   "source": [
    "# Custom palette for visualization\n",
    "palette = {0: 'Yellow', 1: 'black'}  # 0 = no-click, 1 = click\n",
    "\n",
    "# Create figure\n",
    "plt.figure(figsize=(5, 8))\n",
    "ax = sns.countplot(x='group', hue='click', data=df, palette=palette)\n",
    "plt.title('Click Distribution In Experimental And Control Group')\n",
    "plt.xlabel('Group')\n",
    "plt.ylabel('Count')\n",
    "plt.legend(title='Click', labels=['NO', 'YES'])\n",
    "\n",
    "# Calculate and annotate percentages\n",
    "group_count = df.groupby(['group']).size()\n",
    "for p in ax.patches:\n",
    "    height = p.get_height()\n",
    "    group = 'exp' if p.get_x() < 0.5 else 'con'\n",
    "    click = 1 if p.get_x() % 1 > 0.5 else 0\n",
    "    total = group_count.loc[group]\n",
    "    percentage = 100 * height / total\n",
    "    ax.text(p.get_x() + p.get_width()/2., height + 5, \n",
    "            f'{percentage:.1f}%', \n",
    "            ha='center', color='black', fontsize=10)\n",
    "\n",
    "plt.tight_layout()\n",
    "plt.show()"
   ]
  },
  {
   "cell_type": "markdown",
   "id": "6308f39e-0dbf-4081-8862-03a4be98f00b",
   "metadata": {},
   "source": [
    "## Determining the statistics significance (alpha) and the power of the analysis (delta)"
   ]
  },
  {
   "cell_type": "code",
   "execution_count": 9,
   "id": "4715b7c8-86c4-42ab-9790-716820b46802",
   "metadata": {},
   "outputs": [
    {
     "name": "stdout",
     "output_type": "stream",
     "text": [
      "Alpha significance level: 0.05\n",
      "Delta (MDE): 0.1\n"
     ]
    }
   ],
   "source": [
    "alpha = 0.05  # Significance level (5% probability of Type I error)\n",
    "delta = 0.1   # Minimum Detectable Effect (MDE) for practical significance\n",
    "print(f'Alpha significance level: {alpha}')\n",
    "print(f'Delta (MDE): {delta}')\n"
   ]
  },
  {
   "cell_type": "markdown",
   "id": "1c79ce67-3fe8-4077-b686-2a36e2d2c4d4",
   "metadata": {},
   "source": [
    "## Calculating the total number of clicks by group"
   ]
  },
  {
   "cell_type": "code",
   "execution_count": 10,
   "id": "d974203b-abbc-4214-8ec2-3ef72893aead",
   "metadata": {},
   "outputs": [
    {
     "name": "stdout",
     "output_type": "stream",
     "text": [
      "Experimental Group: 6116 clicks out of 10000 users\n",
      "Control Group: 1989 clicks out of 10000 users\n",
      "Experimental Group Click Rate: 0.6116\n",
      "Control Group Click Rate: 0.1989\n",
      "Pooled Click Probability: 0.4052\n"
     ]
    }
   ],
   "source": [
    "# User counts per group\n",
    "n_exp = df[df['group'] == 'exp'].shape[0]\n",
    "n_con = df[df['group'] == 'con'].shape[0]\n",
    "\n",
    "# Click counts per group\n",
    "x_exp = df[df['group'] == 'exp']['click'].sum()\n",
    "x_con = df[df['group'] == 'con']['click'].sum()\n",
    "\n",
    "print(f'Experimental Group: {x_exp} clicks out of {n_exp} users')\n",
    "print(f'Control Group: {x_con} clicks out of {n_con} users')\n",
    "\n",
    "# Click probabilities\n",
    "p_exp_hat = x_exp / n_exp\n",
    "p_con_hat = x_con / n_con\n",
    "print(f'Experimental Group Click Rate: {p_exp_hat:.4f}')\n",
    "print(f'Control Group Click Rate: {p_con_hat:.4f}')\n",
    "\n",
    "# Pooled probability\n",
    "p_pooled_hat = (x_exp + x_con) / (n_exp + n_con)\n",
    "print(f'Pooled Click Probability: {p_pooled_hat:.4f}')"
   ]
  },
  {
   "cell_type": "markdown",
   "id": "dac43a8b-7de0-48d6-8c98-ed3237af8bf8",
   "metadata": {},
   "source": [
    "# Hypothesis testing setup"
   ]
  },
  {
   "cell_type": "code",
   "execution_count": 11,
   "id": "f8430c72-0088-44a7-939e-8c60d5085311",
   "metadata": {},
   "outputs": [
    {
     "name": "stdout",
     "output_type": "stream",
     "text": [
      "Pooled Variance: 0.000048\n",
      "Standard Error: 0.006943\n",
      "Test Statistic (Z-score): 59.4416\n",
      "Critical Z-value: ±1.9600\n"
     ]
    }
   ],
   "source": [
    "# Pooled variance calculation\n",
    "pooled_variance = p_pooled_hat * (1 - p_pooled_hat) * (1/n_exp + 1/n_con)\n",
    "\n",
    "# Standard error\n",
    "SE = np.sqrt(pooled_variance)\n",
    "print(f'Pooled Variance: {pooled_variance:.6f}')\n",
    "print(f'Standard Error: {SE:.6f}')\n",
    "\n",
    "# Z-test statistic\n",
    "test_stat = (p_exp_hat - p_con_hat) / SE\n",
    "print(f'Test Statistic (Z-score): {test_stat:.4f}')\n",
    "\n",
    "# Critical value (two-tailed test)\n",
    "z_crit = norm.ppf(1 - alpha/2)\n",
    "print(f'Critical Z-value: ±{z_crit:.4f}')"
   ]
  },
  {
   "cell_type": "markdown",
   "id": "e838c138-f1a3-4bd7-ad10-6449615c5e7a",
   "metadata": {},
   "source": [
    "## Calculate p-value and determine statistical significance"
   ]
  },
  {
   "cell_type": "code",
   "execution_count": 13,
   "id": "90e64a58-26cf-48d6-b18c-d67a07fc91ca",
   "metadata": {},
   "outputs": [
    {
     "name": "stdout",
     "output_type": "stream",
     "text": [
      "P-value: 0.0000000000\n",
      "Result: Statistically Significant (reject H0)\n",
      "Evidence suggests different click rates between groups\n"
     ]
    }
   ],
   "source": [
    "# Two-tailed p-value\n",
    "p_value = 2 * (1 - norm.cdf(abs(test_stat)))\n",
    "print(f'P-value: {p_value:.10f}')\n",
    "\n",
    "# Statistical significance determination\n",
    "if p_value < alpha:\n",
    "    print('Result: Statistically Significant (reject H0)')\n",
    "    print('Evidence suggests different click rates between groups')\n",
    "else:\n",
    "    print('Result: Not Statistically Significant (fail to reject H0)')\n",
    "    print('No evidence of different click rates between groups')"
   ]
  },
  {
   "cell_type": "markdown",
   "id": "09ef7ba2-a15c-4503-94fe-5c5550943402",
   "metadata": {},
   "source": [
    "## Confidence interval calculation"
   ]
  },
  {
   "cell_type": "code",
   "execution_count": 14,
   "id": "6d424773-ff9b-4c4f-94ca-dd9f480058d4",
   "metadata": {},
   "outputs": [
    {
     "name": "stdout",
     "output_type": "stream",
     "text": [
      "95% Confidence Interval: (0.3991, 0.4263)\n"
     ]
    }
   ],
   "source": [
    "# Difference in proportions\n",
    "diff = p_exp_hat - p_con_hat\n",
    "\n",
    "# 95% Confidence Interval\n",
    "CI_lower = diff - z_crit * SE\n",
    "CI_upper = diff + z_crit * SE\n",
    "print(f'95% Confidence Interval: ({CI_lower:.4f}, {CI_upper:.4f})')"
   ]
  },
  {
   "cell_type": "markdown",
   "id": "e276f362-0d70-4bcf-a9e6-89f6a98b5c23",
   "metadata": {},
   "source": [
    "as seen the range of the confidence interval is narrow 0.3991 and 0.4263. the narrow our confidence interval the higher our accuracy. this essentially means that the result we are getting based on our small sample will most likely general as well when we deploy the model to a larger poplulation. it means the result is most likely for the general population."
   ]
  },
  {
   "cell_type": "markdown",
   "id": "1c6d0523-dfb8-41b5-9d63-13795ad2f100",
   "metadata": {},
   "source": [
    "when ever we have a primary metric that is in form of averages like we are using the p_exp_hat and the p_con_hat. then form already dictates that we use either **perimetric test** correspondign to this averages or **non perimetric test** corresponding to this averages"
   ]
  },
  {
   "cell_type": "markdown",
   "id": "350159be-3f77-4413-96a5-f5a2c3c78481",
   "metadata": {},
   "source": [
    "## Practical significance assessment"
   ]
  },
  {
   "cell_type": "code",
   "execution_count": 15,
   "id": "e281a43f-e91c-4531-9d69-663617a45c6e",
   "metadata": {},
   "outputs": [
    {
     "name": "stdout",
     "output_type": "stream",
     "text": [
      "Result: Practically Significant\n",
      "The difference exceeds our MDE threshold of 0.1\n"
     ]
    }
   ],
   "source": [
    "# Check if confidence interval exceeds MDE\n",
    "if CI_lower > delta or CI_upper < -delta:\n",
    "    print('Result: Practically Significant')\n",
    "    print(f'The difference exceeds our MDE threshold of {delta}')\n",
    "else:\n",
    "    print('Result: Not Practically Significant')\n",
    "    print(f'The difference is smaller than our MDE threshold of {delta}')"
   ]
  },
  {
   "cell_type": "markdown",
   "id": "7c4cfc35-6832-4cd5-bea0-26343350d5fc",
   "metadata": {},
   "source": [
    "# Visualize Gaussian distribution with rejection regions"
   ]
  },
  {
   "cell_type": "code",
   "execution_count": 16,
   "id": "62e8232b-4a5a-49b1-b292-96883bb2eea9",
   "metadata": {},
   "outputs": [
    {
     "data": {
      "image/png": "[encoded data removed]",
      "text/plain": [
       "<Figure size 1000x600 with 1 Axes>"
      ]
     },
     "metadata": {},
     "output_type": "display_data"
    }
   ],
   "source": [
    "plt.figure(figsize=(10, 6))\n",
    "\n",
    "# Create x values\n",
    "x = np.linspace(-4, 4, 1000)\n",
    "y = norm.pdf(x)\n",
    "\n",
    "# Plot distribution\n",
    "plt.plot(x, y, label='Standard Normal Distribution')\n",
    "\n",
    "# Fill rejection regions (two-tailed test)\n",
    "fill_x_left = np.linspace(-4, -z_crit, 100)\n",
    "fill_x_right = np.linspace(z_crit, 4, 100)\n",
    "plt.fill_between(fill_x_left, norm.pdf(fill_x_left), color='red', alpha=0.5, label='Rejection Region')\n",
    "plt.fill_between(fill_x_right, norm.pdf(fill_x_right), color='red', alpha=0.5)\n",
    "\n",
    "# Add test statistic\n",
    "plt.axvline(test_stat, color='blue', linestyle='--', label=f'Test Statistic (z={test_stat:.2f})')\n",
    "\n",
    "# Add critical values\n",
    "plt.axvline(z_crit, color='green', linestyle=':', label=f'Critical Value (z={z_crit:.2f})')\n",
    "plt.axvline(-z_crit, color='green', linestyle=':', label=f'Critical Value (z={-z_crit:.2f})')\n",
    "\n",
    "# Labels and title\n",
    "plt.title('Hypothesis Test: Gaussian Distribution with Rejection Regions')\n",
    "plt.xlabel('Z-score')\n",
    "plt.ylabel('Probability Density')\n",
    "plt.legend()\n",
    "plt.grid(True)\n",
    "plt.show()"
   ]
  },
  {
   "cell_type": "markdown",
   "id": "5221a37f-45ed-4e07-9215-a8539a161e9a",
   "metadata": {},
   "source": [
    "## Visualize confidence interval"
   ]
  },
  {
   "cell_type": "code",
   "execution_count": 17,
   "id": "7e11f171-32a8-4307-a4b6-7c119181570c",
   "metadata": {},
   "outputs": [
    {
     "data": {
      "image/png": "[encoded data removed]",
      "text/plain": [
       "<Figure size 1000x400 with 1 Axes>"
      ]
     },
     "metadata": {},
     "output_type": "display_data"
    }
   ],
   "source": [
    "plt.figure(figsize=(10, 4))\n",
    "\n",
    "# Point estimate and CI\n",
    "plt.errorbar(x=0, y=diff, \n",
    "             yerr=[[diff - CI_lower], [CI_upper - diff]], \n",
    "             fmt='o', \n",
    "             capsize=5,\n",
    "             label='Difference with 95% CI')\n",
    "\n",
    "# Reference lines\n",
    "plt.axhline(y=0, color='gray', linestyle='--')\n",
    "plt.axhline(y=delta, color='red', linestyle=':', alpha=0.7, label=f'MDE ({delta})')\n",
    "plt.axhline(y=-delta, color='red', linestyle=':', alpha=0.7)\n",
    "\n",
    "# Labels and title\n",
    "plt.title('Difference in Click Rates with Confidence Interval')\n",
    "plt.ylabel('Difference (Experimental - Control)')\n",
    "plt.xticks([])  # Hide x-axis\n",
    "plt.legend()\n",
    "plt.grid(True)\n",
    "plt.tight_layout()\n",
    "plt.show()"
   ]
  },
  {
   "cell_type": "markdown",
   "id": "72fb14e8-f9f9-4dd6-b8d2-b33800bdf6a0",
   "metadata": {},
   "source": [
    "## Testing for practical Significance of the Test"
   ]
  },
  {
   "cell_type": "code",
   "execution_count": 23,
   "id": "b15fde76-2a0c-48ed-8f11-c51178419b62",
   "metadata": {},
   "outputs": [],
   "source": [
    "def is_practically_significant(delta, CI_95):\n",
    "    \"\"\"\n",
    "    We asses here if the diffrence between control and experimental group is practically using the minimun deteactable effect (MDE)  \n",
    "    \n",
    "    Arguements:\n",
    "    - delta (float): The minimum Detactable Effect (MDE) considered for practical significance.\n",
    "    - CI_95 (tuple): A tuple representing the lower and upper bounds of the 95% confidence interval.\n",
    "\n",
    "    Returns:\n",
    "    - Prints wether the experiment has practical significance based on the MDE CI.\n",
    "    \n",
    "    \"\"\"\n",
    "\n",
    "    # Extract lower bound of 95% confidence interval\n",
    "    lower_bound_CI = CI_95[0]\n",
    "\n",
    "    # check if the lower bound of the CI is greater than or equal to delta\n",
    "    if lower_bound_CI >= delta:\n",
    "        print(f'We have practical significance! \\nwith MDE of {delta}, The diffrence between control and Experimental group is practically significant.')\n",
    "        return True\n",
    "    else:\n",
    "        print('We don\\'t have practical! \\nThe difference between control and Experimental group is not practically significant.')\n",
    "\n",
    " "
   ]
  },
  {
   "cell_type": "code",
   "execution_count": 24,
   "id": "7e330a3a-7917-4be4-ae4f-122ba408a2d1",
   "metadata": {},
   "outputs": [
    {
     "name": "stdout",
     "output_type": "stream",
     "text": [
      "We have practical significance! \n",
      "with MDE of 0.1, The diffrence between control and Experimental group is practically significant.\n",
      "lower bound of 95% interval is: 0.3990920775390248\n"
     ]
    }
   ],
   "source": [
    "CI_95 = (CI_lower, CI_upper)\n",
    "significance = is_practically_significant(delta, CI_95)\n",
    "print(f'lower bound of 95% interval is: {CI_95[0]}')"
   ]
  },
  {
   "cell_type": "code",
   "execution_count": null,
   "id": "8d4cf0a4-61a1-4ab4-8fc2-1de53352945b",
   "metadata": {},
   "outputs": [],
   "source": []
  },
  {
   "cell_type": "code",
   "execution_count": null,
   "id": "8fcf3d1d-71bb-49f9-bcce-755a69147a3d",
   "metadata": {},
   "outputs": [],
   "source": []
  },
  {
   "cell_type": "code",
   "execution_count": null,
   "id": "54debc9b-f85e-48bc-a45c-22dba6024e29",
   "metadata": {},
   "outputs": [],
   "source": []
  }
 ],
 "metadata": {
  "kernelspec": {
   "display_name": "Python 3 (ipykernel)",
   "language": "python",
   "name": "python3"
  },
  "language_info": {
   "codemirror_mode": {
    "name": "ipython",
    "version": 3
   },
   "file_extension": ".py",
   "mimetype": "text/x-python",
   "name": "python",
   "nbconvert_exporter": "python",
   "pygments_lexer": "ipython3",
   "version": "3.13.3"
  }
 },
 "nbformat": 4,
 "nbformat_minor": 5
}
